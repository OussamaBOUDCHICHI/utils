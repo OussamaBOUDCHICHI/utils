{
 "cells": [
  {
   "cell_type": "code",
   "execution_count": 1,
   "metadata": {},
   "outputs": [],
   "source": [
    "import numpy as np\n",
    "import scipy.stats as stats\n",
    "import matplotlib.pyplot as plt\n",
    "import matplotlib as mpl\n",
    "\n",
    "\n",
    "plt.rcParams['figure.figsize'] = (8, 6)\n",
    "mpl.rcParams['axes.linewidth'] = 2 \n",
    "set_tex = lambda tex=True: plt.rcParams.update({\"text.usetex\": tex})\n",
    "mpl.rc('xtick', labelsize=12) \n",
    "mpl.rc('ytick', labelsize=12) "
   ]
  },
  {
   "cell_type": "code",
   "execution_count": 10,
   "metadata": {},
   "outputs": [],
   "source": [
    "from yahoo_fin import options\n",
    "from datetime import timedelta, datetime"
   ]
  },
  {
   "cell_type": "code",
   "execution_count": 11,
   "metadata": {},
   "outputs": [],
   "source": [
    "exp = options.get_expiration_dates('^SPX')"
   ]
  },
  {
   "cell_type": "code",
   "execution_count": 16,
   "metadata": {},
   "outputs": [],
   "source": [
    "maturs = [datetime.strptime(x, '%B %d, %Y').date() for x in exp]"
   ]
  },
  {
   "cell_type": "code",
   "execution_count": 17,
   "metadata": {},
   "outputs": [],
   "source": [
    "tt = [(y - datetime(2023, 5, 15).date()).days / 252. for y in dt]"
   ]
  },
  {
   "cell_type": "code",
   "execution_count": 18,
   "metadata": {},
   "outputs": [
    {
     "data": {
      "text/plain": [
       "[0.1111111111111111,\n",
       " 0.11507936507936507,\n",
       " 0.11904761904761904,\n",
       " 0.12301587301587301,\n",
       " 0.12698412698412698,\n",
       " 0.14285714285714285,\n",
       " 0.14682539682539683,\n",
       " 0.15079365079365079,\n",
       " 0.15476190476190477,\n",
       " 0.16666666666666666,\n",
       " 0.17063492063492064,\n",
       " 0.1746031746031746,\n",
       " 0.17857142857142858,\n",
       " 0.18253968253968253,\n",
       " 0.19444444444444445,\n",
       " 0.21031746031746032,\n",
       " 0.2222222222222222,\n",
       " 0.2261904761904762,\n",
       " 0.23809523809523808,\n",
       " 0.26587301587301587,\n",
       " 0.29365079365079366,\n",
       " 0.3055555555555556,\n",
       " 0.376984126984127,\n",
       " 0.42857142857142855,\n",
       " 0.4880952380952381,\n",
       " 0.5436507936507936,\n",
       " 0.626984126984127,\n",
       " 0.6706349206349206,\n",
       " 0.7380952380952381,\n",
       " 0.7896825396825397,\n",
       " 0.8492063492063492,\n",
       " 0.9047619047619048,\n",
       " 0.9880952380952381,\n",
       " 1.0992063492063493,\n",
       " 1.2103174603174602,\n",
       " 1.2619047619047619,\n",
       " 1.3492063492063493,\n",
       " 1.4603174603174602,\n",
       " 1.5992063492063493,\n",
       " 2.3214285714285716,\n",
       " 3.765873015873016,\n",
       " 4.126984126984127,\n",
       " 5.2103174603174605,\n",
       " 6.654761904761905]"
      ]
     },
     "execution_count": 18,
     "metadata": {},
     "output_type": "execute_result"
    }
   ],
   "source": [
    "tt"
   ]
  },
  {
   "cell_type": "code",
   "execution_count": 40,
   "metadata": {},
   "outputs": [],
   "source": [
    "mat = maturs[10]"
   ]
  },
  {
   "cell_type": "code",
   "execution_count": 41,
   "metadata": {},
   "outputs": [],
   "source": [
    "def clean(calls):\n",
    "    calls = calls[['Last Price', 'Strike', 'Implied Volatility', 'Ask', 'Bid']]\n",
    "    calls.columns = ['price', 'strike', 'implied_vol', 'ask', 'bid']\n",
    "    calls['implied_vol'] =   calls['implied_vol'].apply(lambda x: float(x.replace('%', '').replace(',',''))) / 100.\n",
    "    return calls"
   ]
  },
  {
   "cell_type": "code",
   "execution_count": 42,
   "metadata": {},
   "outputs": [
    {
     "name": "stderr",
     "output_type": "stream",
     "text": [
      "/var/folders/m1/_s3dpj6d7hq0y_999wt14gc00000gn/T/ipykernel_57164/2269839341.py:4: SettingWithCopyWarning: \n",
      "A value is trying to be set on a copy of a slice from a DataFrame.\n",
      "Try using .loc[row_indexer,col_indexer] = value instead\n",
      "\n",
      "See the caveats in the documentation: https://pandas.pydata.org/pandas-docs/stable/user_guide/indexing.html#returning-a-view-versus-a-copy\n",
      "  calls['implied_vol'] =   calls['implied_vol'].apply(lambda x: float(x.replace('%', '').replace(',',''))) / 100.\n"
     ]
    }
   ],
   "source": [
    "calls = options.get_calls('^SPX', mat)\n",
    "calls = clean(calls)"
   ]
  },
  {
   "cell_type": "code",
   "execution_count": 43,
   "metadata": {},
   "outputs": [
    {
     "name": "stderr",
     "output_type": "stream",
     "text": [
      "/var/folders/m1/_s3dpj6d7hq0y_999wt14gc00000gn/T/ipykernel_57164/2269839341.py:4: SettingWithCopyWarning: \n",
      "A value is trying to be set on a copy of a slice from a DataFrame.\n",
      "Try using .loc[row_indexer,col_indexer] = value instead\n",
      "\n",
      "See the caveats in the documentation: https://pandas.pydata.org/pandas-docs/stable/user_guide/indexing.html#returning-a-view-versus-a-copy\n",
      "  calls['implied_vol'] =   calls['implied_vol'].apply(lambda x: float(x.replace('%', '').replace(',',''))) / 100.\n"
     ]
    }
   ],
   "source": [
    "puts = options.get_puts('^SPX', mat)\n",
    "\n",
    "puts = clean(puts)"
   ]
  },
  {
   "cell_type": "code",
   "execution_count": 38,
   "metadata": {},
   "outputs": [
    {
     "data": {
      "text/html": [
       "<div>\n",
       "<style scoped>\n",
       "    .dataframe tbody tr th:only-of-type {\n",
       "        vertical-align: middle;\n",
       "    }\n",
       "\n",
       "    .dataframe tbody tr th {\n",
       "        vertical-align: top;\n",
       "    }\n",
       "\n",
       "    .dataframe thead th {\n",
       "        text-align: right;\n",
       "    }\n",
       "</style>\n",
       "<table border=\"1\" class=\"dataframe\">\n",
       "  <thead>\n",
       "    <tr style=\"text-align: right;\">\n",
       "      <th></th>\n",
       "      <th>call_price</th>\n",
       "      <th>strike</th>\n",
       "      <th>implied_vol</th>\n",
       "      <th>ask</th>\n",
       "      <th>bid</th>\n",
       "    </tr>\n",
       "  </thead>\n",
       "  <tbody>\n",
       "    <tr>\n",
       "      <th>0</th>\n",
       "      <td>0.03</td>\n",
       "      <td>2000.0</td>\n",
       "      <td>2.3438</td>\n",
       "      <td>0.05</td>\n",
       "      <td>0.0</td>\n",
       "    </tr>\n",
       "    <tr>\n",
       "      <th>1</th>\n",
       "      <td>0.05</td>\n",
       "      <td>2200.0</td>\n",
       "      <td>2.0625</td>\n",
       "      <td>0.05</td>\n",
       "      <td>0.0</td>\n",
       "    </tr>\n",
       "    <tr>\n",
       "      <th>2</th>\n",
       "      <td>0.05</td>\n",
       "      <td>2400.0</td>\n",
       "      <td>1.8125</td>\n",
       "      <td>0.05</td>\n",
       "      <td>0.0</td>\n",
       "    </tr>\n",
       "    <tr>\n",
       "      <th>3</th>\n",
       "      <td>0.05</td>\n",
       "      <td>2600.0</td>\n",
       "      <td>1.5703</td>\n",
       "      <td>0.05</td>\n",
       "      <td>0.0</td>\n",
       "    </tr>\n",
       "    <tr>\n",
       "      <th>4</th>\n",
       "      <td>0.05</td>\n",
       "      <td>2800.0</td>\n",
       "      <td>1.3516</td>\n",
       "      <td>0.05</td>\n",
       "      <td>0.0</td>\n",
       "    </tr>\n",
       "    <tr>\n",
       "      <th>...</th>\n",
       "      <td>...</td>\n",
       "      <td>...</td>\n",
       "      <td>...</td>\n",
       "      <td>...</td>\n",
       "      <td>...</td>\n",
       "    </tr>\n",
       "    <tr>\n",
       "      <th>119</th>\n",
       "      <td>57.40</td>\n",
       "      <td>4375.0</td>\n",
       "      <td>0.0000</td>\n",
       "      <td>74.40</td>\n",
       "      <td>71.6</td>\n",
       "    </tr>\n",
       "    <tr>\n",
       "      <th>120</th>\n",
       "      <td>99.60</td>\n",
       "      <td>4400.0</td>\n",
       "      <td>0.0000</td>\n",
       "      <td>100.40</td>\n",
       "      <td>95.3</td>\n",
       "    </tr>\n",
       "    <tr>\n",
       "      <th>121</th>\n",
       "      <td>156.53</td>\n",
       "      <td>4450.0</td>\n",
       "      <td>0.0000</td>\n",
       "      <td>150.30</td>\n",
       "      <td>145.1</td>\n",
       "    </tr>\n",
       "    <tr>\n",
       "      <th>122</th>\n",
       "      <td>281.78</td>\n",
       "      <td>4500.0</td>\n",
       "      <td>0.0000</td>\n",
       "      <td>200.30</td>\n",
       "      <td>195.1</td>\n",
       "    </tr>\n",
       "    <tr>\n",
       "      <th>123</th>\n",
       "      <td>379.96</td>\n",
       "      <td>4600.0</td>\n",
       "      <td>0.0000</td>\n",
       "      <td>300.30</td>\n",
       "      <td>295.1</td>\n",
       "    </tr>\n",
       "  </tbody>\n",
       "</table>\n",
       "<p>124 rows × 5 columns</p>\n",
       "</div>"
      ],
      "text/plain": [
       "     call_price  strike  implied_vol     ask    bid\n",
       "0          0.03  2000.0       2.3438    0.05    0.0\n",
       "1          0.05  2200.0       2.0625    0.05    0.0\n",
       "2          0.05  2400.0       1.8125    0.05    0.0\n",
       "3          0.05  2600.0       1.5703    0.05    0.0\n",
       "4          0.05  2800.0       1.3516    0.05    0.0\n",
       "..          ...     ...          ...     ...    ...\n",
       "119       57.40  4375.0       0.0000   74.40   71.6\n",
       "120       99.60  4400.0       0.0000  100.40   95.3\n",
       "121      156.53  4450.0       0.0000  150.30  145.1\n",
       "122      281.78  4500.0       0.0000  200.30  195.1\n",
       "123      379.96  4600.0       0.0000  300.30  295.1\n",
       "\n",
       "[124 rows x 5 columns]"
      ]
     },
     "execution_count": 38,
     "metadata": {},
     "output_type": "execute_result"
    }
   ],
   "source": [
    "puts"
   ]
  },
  {
   "cell_type": "code",
   "execution_count": 46,
   "metadata": {},
   "outputs": [
    {
     "data": {
      "text/plain": [
       "(4000.0, 4500.0)"
      ]
     },
     "execution_count": 46,
     "metadata": {},
     "output_type": "execute_result"
    },
    {
     "data": {
      "image/png": "[encoded data removed]",
      "text/plain": [
       "<Figure size 800x600 with 1 Axes>"
      ]
     },
     "metadata": {},
     "output_type": "display_data"
    }
   ],
   "source": [
    "plt.plot(calls['strike'], calls['price'])\n",
    "plt.plot(puts['strike'], puts['price'])\n",
    "plt.xlim([4000, 4500])"
   ]
  },
  {
   "cell_type": "code",
   "execution_count": 47,
   "metadata": {},
   "outputs": [],
   "source": [
    "from scipy.optimize import minimize, Bounds"
   ]
  },
  {
   "cell_type": "code",
   "execution_count": 51,
   "metadata": {},
   "outputs": [],
   "source": [
    "k_minus = 4000.\n",
    "k_plus = 4400."
   ]
  },
  {
   "cell_type": "code",
   "execution_count": 55,
   "metadata": {},
   "outputs": [],
   "source": [
    "calls_calib = calls.loc[(calls['strike'] >= k_minus) & (calls['strike'] <= k_plus), :]\n",
    "puts_calib = puts.loc[(puts['strike'] >= k_minus) & (puts['strike'] <= k_plus), :]"
   ]
  },
  {
   "cell_type": "code",
   "execution_count": 59,
   "metadata": {},
   "outputs": [
    {
     "data": {
      "text/plain": [
       "array([ True, False, False, False, False, False, False, False, False,\n",
       "       False, False, False, False, False, False, False, False, False,\n",
       "       False, False, False, False, False, False, False, False, False,\n",
       "       False, False, False, False, False, False, False, False, False,\n",
       "       False, False, False, False, False, False, False, False, False,\n",
       "        True])"
      ]
     },
     "execution_count": 59,
     "metadata": {},
     "output_type": "execute_result"
    }
   ],
   "source": [
    "calls_calib['strike'].values == puts_calib['strike'].values"
   ]
  },
  {
   "cell_type": "code",
   "execution_count": 61,
   "metadata": {},
   "outputs": [],
   "source": [
    "df = calls.merge(puts, on='strike')"
   ]
  },
  {
   "cell_type": "code",
   "execution_count": 64,
   "metadata": {},
   "outputs": [
    {
     "data": {
      "text/html": [
       "<div>\n",
       "<style scoped>\n",
       "    .dataframe tbody tr th:only-of-type {\n",
       "        vertical-align: middle;\n",
       "    }\n",
       "\n",
       "    .dataframe tbody tr th {\n",
       "        vertical-align: top;\n",
       "    }\n",
       "\n",
       "    .dataframe thead th {\n",
       "        text-align: right;\n",
       "    }\n",
       "</style>\n",
       "<table border=\"1\" class=\"dataframe\">\n",
       "  <thead>\n",
       "    <tr style=\"text-align: right;\">\n",
       "      <th></th>\n",
       "      <th>price_x</th>\n",
       "      <th>strike</th>\n",
       "      <th>implied_vol_x</th>\n",
       "      <th>ask_x</th>\n",
       "      <th>bid_x</th>\n",
       "      <th>price_y</th>\n",
       "      <th>implied_vol_y</th>\n",
       "      <th>ask_y</th>\n",
       "      <th>bid_y</th>\n",
       "    </tr>\n",
       "  </thead>\n",
       "  <tbody>\n",
       "    <tr>\n",
       "      <th>0</th>\n",
       "      <td>1592.49</td>\n",
       "      <td>2600.0</td>\n",
       "      <td>1.1149</td>\n",
       "      <td>1707.9</td>\n",
       "      <td>1702.7</td>\n",
       "      <td>0.50</td>\n",
       "      <td>0.7090</td>\n",
       "      <td>0.20</td>\n",
       "      <td>0.00</td>\n",
       "    </tr>\n",
       "    <tr>\n",
       "      <th>1</th>\n",
       "      <td>793.22</td>\n",
       "      <td>3500.0</td>\n",
       "      <td>0.5519</td>\n",
       "      <td>810.6</td>\n",
       "      <td>805.5</td>\n",
       "      <td>0.64</td>\n",
       "      <td>0.3829</td>\n",
       "      <td>0.85</td>\n",
       "      <td>0.55</td>\n",
       "    </tr>\n",
       "    <tr>\n",
       "      <th>2</th>\n",
       "      <td>576.70</td>\n",
       "      <td>3650.0</td>\n",
       "      <td>0.4892</td>\n",
       "      <td>661.3</td>\n",
       "      <td>656.1</td>\n",
       "      <td>1.00</td>\n",
       "      <td>0.3250</td>\n",
       "      <td>1.15</td>\n",
       "      <td>0.80</td>\n",
       "    </tr>\n",
       "    <tr>\n",
       "      <th>3</th>\n",
       "      <td>453.14</td>\n",
       "      <td>3750.0</td>\n",
       "      <td>0.4284</td>\n",
       "      <td>561.8</td>\n",
       "      <td>556.6</td>\n",
       "      <td>1.43</td>\n",
       "      <td>0.2851</td>\n",
       "      <td>1.40</td>\n",
       "      <td>1.05</td>\n",
       "    </tr>\n",
       "    <tr>\n",
       "      <th>4</th>\n",
       "      <td>297.53</td>\n",
       "      <td>3900.0</td>\n",
       "      <td>0.3312</td>\n",
       "      <td>411.9</td>\n",
       "      <td>408.2</td>\n",
       "      <td>2.35</td>\n",
       "      <td>0.2270</td>\n",
       "      <td>2.10</td>\n",
       "      <td>1.70</td>\n",
       "    </tr>\n",
       "  </tbody>\n",
       "</table>\n",
       "</div>"
      ],
      "text/plain": [
       "   price_x  strike  implied_vol_x   ask_x   bid_x  price_y  implied_vol_y   \n",
       "0  1592.49  2600.0         1.1149  1707.9  1702.7     0.50         0.7090  \\\n",
       "1   793.22  3500.0         0.5519   810.6   805.5     0.64         0.3829   \n",
       "2   576.70  3650.0         0.4892   661.3   656.1     1.00         0.3250   \n",
       "3   453.14  3750.0         0.4284   561.8   556.6     1.43         0.2851   \n",
       "4   297.53  3900.0         0.3312   411.9   408.2     2.35         0.2270   \n",
       "\n",
       "   ask_y  bid_y  \n",
       "0   0.20   0.00  \n",
       "1   0.85   0.55  \n",
       "2   1.15   0.80  \n",
       "3   1.40   1.05  \n",
       "4   2.10   1.70  "
      ]
     },
     "execution_count": 64,
     "metadata": {},
     "output_type": "execute_result"
    }
   ],
   "source": [
    "df.head()"
   ]
  },
  {
   "cell_type": "code",
   "execution_count": 67,
   "metadata": {},
   "outputs": [],
   "source": [
    "def obj(x):\n",
    "    out = (df['price_x'] - df['price_y'] - x[0] * (x[1] - df['strike'])).values\n",
    "    return np.linalg.norm(out)**2"
   ]
  },
  {
   "cell_type": "code",
   "execution_count": 69,
   "metadata": {},
   "outputs": [],
   "source": [
    "import pandas as pd"
   ]
  },
  {
   "cell_type": "code",
   "execution_count": 71,
   "metadata": {},
   "outputs": [],
   "source": [
    "asofdate = pd.to_datetime('2023-06-11')\n",
    "load_from = asofdate - timedelta(days=4 * 365)  # Use the past 4 years to initialize"
   ]
  },
  {
   "cell_type": "code",
   "execution_count": 72,
   "metadata": {},
   "outputs": [],
   "source": [
    "import yfinance as yf"
   ]
  },
  {
   "cell_type": "code",
   "execution_count": 73,
   "metadata": {},
   "outputs": [],
   "source": [
    "# Load data on SPX and VIX\n",
    "spx = yf.Ticker(\"^GSPC\").history(start=load_from, end=asofdate + timedelta(days=1))['Close']\n",
    "spx.index = pd.to_datetime(spx.index.date)"
   ]
  },
  {
   "cell_type": "code",
   "execution_count": 75,
   "metadata": {},
   "outputs": [
    {
     "data": {
      "text/plain": [
       "4298.85986328125"
      ]
     },
     "execution_count": 75,
     "metadata": {},
     "output_type": "execute_result"
    }
   ],
   "source": [
    "spx[-1]"
   ]
  },
  {
   "cell_type": "code",
   "execution_count": 76,
   "metadata": {},
   "outputs": [],
   "source": [
    "x_0 = np.array([.5, spx[-1]])"
   ]
  },
  {
   "cell_type": "code",
   "execution_count": 78,
   "metadata": {},
   "outputs": [],
   "source": [
    "bounds = Bounds(np.full(2, 1e-7), np.array([1., np.inf]))"
   ]
  },
  {
   "cell_type": "code",
   "execution_count": 79,
   "metadata": {},
   "outputs": [],
   "source": [
    "res = minimize(obj, x0 = x_0, method = 'L-BFGS-B', bounds=bounds)"
   ]
  },
  {
   "cell_type": "code",
   "execution_count": 88,
   "metadata": {},
   "outputs": [
    {
     "data": {
      "text/plain": [
       "<matplotlib.lines.Line2D at 0x16c715780>"
      ]
     },
     "execution_count": 88,
     "metadata": {},
     "output_type": "execute_result"
    },
    {
     "data": {
      "image/png": "[encoded data removed]",
      "text/plain": [
       "<Figure size 800x600 with 1 Axes>"
      ]
     },
     "metadata": {},
     "output_type": "display_data"
    }
   ],
   "source": [
    "plt.plot(calls['strike'], calls['implied_vol'], '.-')\n",
    "plt.axvline(x = res.x[-1])"
   ]
  },
  {
   "cell_type": "code",
   "execution_count": 91,
   "metadata": {},
   "outputs": [],
   "source": [
    "np.random.seed(1)\n",
    "rng = lambda n=1: np.random.randn(n)"
   ]
  },
  {
   "cell_type": "code",
   "execution_count": 93,
   "metadata": {},
   "outputs": [],
   "source": [
    "dt = 1. / 252."
   ]
  },
  {
   "cell_type": "code",
   "execution_count": 94,
   "metadata": {},
   "outputs": [],
   "source": [
    "mdl_params = np.array([.08, -.13, .8, 12., 12.])"
   ]
  },
  {
   "cell_type": "code",
   "execution_count": 95,
   "metadata": {},
   "outputs": [
    {
     "data": {
      "text/plain": [
       "array([ 0.08, -0.13,  0.8 ])"
      ]
     },
     "execution_count": 95,
     "metadata": {},
     "output_type": "execute_result"
    }
   ],
   "source": [
    "mdl_params[:3]"
   ]
  },
  {
   "cell_type": "code",
   "execution_count": 149,
   "metadata": {},
   "outputs": [],
   "source": [
    "def get_sample(x_init, mdl_params, matur, n_samples = 10_000):\n",
    "    betas, lambds = mdl_params[:3], mdl_params[3:]\n",
    "    sigma = lambda r_1, r_2: betas[0] + betas[1] * r_1 + betas[2] * np.sqrt(r_2)\n",
    "    disc_steps = int(matur / dt)\n",
    "    #spot = np.empty((n_samples, disc_steps + 1))\n",
    "    spot = np.full(n_samples, x_init[0])\n",
    "    r_1, r_2 = np.full(n_samples, x_init[1]), np.full(n_samples, x_init[2])\n",
    "\n",
    "    for n in range(1, disc_steps + 1):\n",
    "        z = rng(n_samples)\n",
    "        sig_ = sigma(r_1, r_2)\n",
    "        spot = spot * (1. + sig_ * np.sqrt(dt) * z)\n",
    "        r_1 = r_1 * (1. - lambds[0] * dt) + lambds[0] * sig_ * np.sqrt(dt) * z\n",
    "        r_2 = r_2 + lambds[1] * (sig_**2 - r_2) * dt\n",
    "    return spot"
   ]
  },
  {
   "cell_type": "code",
   "execution_count": 187,
   "metadata": {},
   "outputs": [],
   "source": [
    "spot_ = get_sample(np.array([spx[-1], 4e-2, 7e-3]), res_.x, matur = tt[10])"
   ]
  },
  {
   "cell_type": "code",
   "execution_count": 151,
   "metadata": {},
   "outputs": [
    {
     "data": {
      "text/plain": [
       "array([5253.23275313, 5866.54734428, 5635.10857576, ...,   57.04694772,\n",
       "       5147.82267095, 1978.16820106])"
      ]
     },
     "execution_count": 151,
     "metadata": {},
     "output_type": "execute_result"
    }
   ],
   "source": [
    "spot_"
   ]
  },
  {
   "cell_type": "code",
   "execution_count": 121,
   "metadata": {},
   "outputs": [],
   "source": [
    "def price_(samples, strikes, forward, disc_factor):\n",
    "    return disc_factor * (np.maximum(np.subtract.outer(strikes, samples), .0).mean(axis = 1) + forward - strikes)"
   ]
  },
  {
   "cell_type": "code",
   "execution_count": 122,
   "metadata": {},
   "outputs": [],
   "source": [
    "idx = int(tt[10] / dt)"
   ]
  },
  {
   "cell_type": "code",
   "execution_count": 188,
   "metadata": {},
   "outputs": [],
   "source": [
    "prices = price_(spot_, calls['strike'].values, res.x[-1], res.x[0])"
   ]
  },
  {
   "cell_type": "code",
   "execution_count": 110,
   "metadata": {},
   "outputs": [],
   "source": [
    "strikes = calls['strike'].values"
   ]
  },
  {
   "cell_type": "code",
   "execution_count": 189,
   "metadata": {},
   "outputs": [
    {
     "data": {
      "text/plain": [
       "[<matplotlib.lines.Line2D at 0x1542cae30>]"
      ]
     },
     "execution_count": 189,
     "metadata": {},
     "output_type": "execute_result"
    },
    {
     "data": {
      "image/png": "[encoded data removed]",
      "text/plain": [
       "<Figure size 800x600 with 1 Axes>"
      ]
     },
     "metadata": {},
     "output_type": "display_data"
    }
   ],
   "source": [
    "plt.plot(strikes, prices)\n",
    "plt.plot(strikes, calls['price'])"
   ]
  },
  {
   "cell_type": "code",
   "execution_count": 136,
   "metadata": {},
   "outputs": [],
   "source": [
    "# all inputs must be scalar\n",
    "norm = stats.norm\n",
    "def blackscholes_impv_scalar(K, T, F, value, df, callput='call', tol=1e-10, maxiter=1000):\n",
    "    \"\"\"Compute implied vol in Black-Scholes model\n",
    "    \n",
    "    Parameters\n",
    "    ----------\n",
    "    K: scalar\n",
    "        The strike of the option.\n",
    "    T: scalar\n",
    "        The maturity of the option.\n",
    "    S: scalar\n",
    "        The spot price of the underlying security.\n",
    "    value: scalar\n",
    "        The value of the option\n",
    "    callput: str\n",
    "        Must be either 'call' or 'put'\n",
    "\n",
    "    Returns\n",
    "    -------\n",
    "    vol: scalar\n",
    "        The implied vol of the option.\n",
    "    \"\"\"\n",
    "    if (K <= 0) or (T <= 0):\n",
    "        return np.nan\n",
    "    #F = S*np.exp((r-q)*T)\n",
    "    K = K / F\n",
    "    value = value / (F * df)\n",
    "    callput = callput.lower()\n",
    "    if callput not in ['call', 'put']:\n",
    "        raise ValueError('The value of \"callput\" must be either \"call\" or \"put\"')\n",
    "    opttype = 1 if callput == 'call' else -1\n",
    "    value -= max(opttype * (1 - K), 0)\n",
    "    if value < 0:\n",
    "        return np.nan\n",
    "    if (value == 0):\n",
    "        return 0\n",
    "    j = 1\n",
    "    p = np.log(K)\n",
    "    if K >= 1:\n",
    "        x0 = np.sqrt(2 * p)\n",
    "        x1 = x0 - (0.5 - K * norm.cdf(-x0) - value) * np.sqrt(2*np.pi)\n",
    "        while (abs(x0 - x1) > tol*np.sqrt(T)) and (j < maxiter):\n",
    "            x0 = x1\n",
    "            d1 = -p/x1+0.5*x1\n",
    "            x1 = x1 - (norm.cdf(d1) - K*norm.cdf(d1-x1)-value)*np.sqrt(2*np.pi)*np.exp(0.5*d1**2)\n",
    "            j += 1\n",
    "        return x1 / np.sqrt(T)\n",
    "    else:\n",
    "        x0 = np.sqrt(-2 * p)\n",
    "        x1 = x0 - (0.5*K-norm.cdf(-x0)-value)*np.sqrt(2*np.pi)/K\n",
    "        while (abs(x0-x1) > tol*np.sqrt(T)) and (j < maxiter):\n",
    "            x0 = x1\n",
    "            d1 = -p/x1+0.5*x1\n",
    "            x1 = x1-(K*norm.cdf(x1-d1)-norm.cdf(-d1)-value)*np.sqrt(2*np.pi)*np.exp(0.5*d1**2)\n",
    "            j += 1\n",
    "        return x1 /np.sqrt(T)\n",
    "\n",
    "# vectorized version\n",
    "blackscholes_impv = np.vectorize(blackscholes_impv_scalar, excluded={'callput', 'tol', 'maxiter'})\n",
    "\n",
    "# Example\n",
    "# blackscholes_impv(K=95, T=0.25, S=100, value=7, callput='call')"
   ]
  },
  {
   "cell_type": "code",
   "execution_count": 145,
   "metadata": {},
   "outputs": [],
   "source": [
    "r = - np.log(res.x[0]) / tt[0]"
   ]
  },
  {
   "cell_type": "code",
   "execution_count": 190,
   "metadata": {},
   "outputs": [],
   "source": [
    "import py_vollib_vectorized\n",
    "imp_ = py_vollib_vectorized.vectorized_implied_volatility_black(prices, res.x[-1], strikes, r, tt[10], 'c', return_as='numpy')  # equivalent"
   ]
  },
  {
   "cell_type": "code",
   "execution_count": 191,
   "metadata": {},
   "outputs": [
    {
     "data": {
      "text/plain": [
       "array([1.01602796, 0.44246203, 0.36705535, 0.32022433, 0.25552705,\n",
       "       0.22599886, 0.22027291, 0.21649271, 0.20718357, 0.20534923,\n",
       "       0.18906351, 0.18370636, 0.17664875, 0.17490072, 0.17316998,\n",
       "       0.17144672, 0.16972705, 0.16629304, 0.16457202, 0.16285844,\n",
       "       0.16115297, 0.15945429, 0.15776606, 0.15608908, 0.1544226 ,\n",
       "       0.15275908, 0.15109573, 0.14942979, 0.14776811, 0.14610393,\n",
       "       0.14444079, 0.14277998, 0.14112102, 0.13946106, 0.1378026 ,\n",
       "       0.13614294, 0.13447626, 0.13281311, 0.12951313, 0.12787781,\n",
       "       0.12623832, 0.1246052 , 0.12298137, 0.12135311, 0.11972742,\n",
       "       0.11326094, 0.11002924, 0.10681079, 0.10520195, 0.10358668,\n",
       "       0.09709731, 0.08895648, 0.08073347, 0.06400405, 0.05059198,\n",
       "       0.06572609, 0.10125237])"
      ]
     },
     "execution_count": 191,
     "metadata": {},
     "output_type": "execute_result"
    }
   ],
   "source": [
    "imp_"
   ]
  },
  {
   "cell_type": "code",
   "execution_count": 192,
   "metadata": {},
   "outputs": [
    {
     "data": {
      "text/plain": [
       "[<matplotlib.lines.Line2D at 0x1546261d0>]"
      ]
     },
     "execution_count": 192,
     "metadata": {},
     "output_type": "execute_result"
    },
    {
     "data": {
      "image/png": "[encoded data removed]",
      "text/plain": [
       "<Figure size 800x600 with 1 Axes>"
      ]
     },
     "metadata": {},
     "output_type": "display_data"
    }
   ],
   "source": [
    "plt.plot(strikes, imp_)\n",
    "plt.plot(strikes, calls['implied_vol'])\n"
   ]
  },
  {
   "cell_type": "code",
   "execution_count": 161,
   "metadata": {},
   "outputs": [
    {
     "data": {
      "text/plain": [
       "array([-0.10423983, -0.10256601, -0.1048546 , -0.0819228 , -0.03386167,\n",
       "       -0.01058966, -0.00574515, -0.00271093,  0.00150254,  0.00324207,\n",
       "        0.01909274,  0.02410383,  0.03062639,  0.0323771 ,  0.03372872,\n",
       "        0.03558557,  0.03665222,  0.04051147,  0.04210469,  0.04600398,\n",
       "        0.04470558,  0.04611533,  0.04763592,  0.04956643,  0.0510984 ,\n",
       "        0.05213357,  0.05387123,  0.05530834,  0.05684438,  0.06018497,\n",
       "        0.05953331,  0.06078745,  0.06234734,  0.06371257,  0.06488461,\n",
       "        0.06616077,  0.06733904,  0.06821755,  0.07229828,  0.07199575,\n",
       "        0.07430013,  0.07430578,  0.07511741,  0.07653329,  0.07715431,\n",
       "        0.08258183,  0.08296894,  0.08346323,  0.08351298,  0.08375928,\n",
       "        0.08387685,  0.08091774,  0.07971221,  0.06948663,  0.05730602,\n",
       "        0.02144216])"
      ]
     },
     "execution_count": 161,
     "metadata": {},
     "output_type": "execute_result"
    }
   ],
   "source": [
    "out = imp_ - calls['implied_vol'].values\n",
    "out[~np.isnan(out)]"
   ]
  },
  {
   "cell_type": "code",
   "execution_count": 162,
   "metadata": {},
   "outputs": [],
   "source": [
    "def obj_calib(x, x_init, matur, strikes, forward, disc_factor, n_samples = 10_000):\n",
    "    spot_= get_sample(x_init, x, matur, n_samples)\n",
    "    prices = price_(spot_, strikes, forward, disc_factor)\n",
    "    imp_ = py_vollib_vectorized.vectorized_implied_volatility_black(prices, res.x[-1], strikes, r, tt[10], 'c', return_as='numpy')\n",
    "    out = calls['implied_vol'].values - imp_\n",
    "    return np.linalg.norm(out[~np.isnan(out)])**2"
   ]
  },
  {
   "cell_type": "code",
   "execution_count": 154,
   "metadata": {},
   "outputs": [],
   "source": [
    "x_init = np.array([spx[-1], 4e-2, 7e-3])\n",
    "forward, disc_factor = res.x[-1], res.x[0]\n",
    "matur = tt[10]"
   ]
  },
  {
   "cell_type": "code",
   "execution_count": 170,
   "metadata": {},
   "outputs": [],
   "source": [
    "x0_ = np.array([0.1, -0.3, .5, 15., 15.])\n",
    "lower = np.array([1e-7, -np.inf, 1e-7, 1e-7, 1e-7])\n",
    "upper = np.array([np.inf, 0., 1., np.inf, np.inf])\n",
    "obj = lambda x: obj_calib(x, x_init, tt[10], strikes, forward, disc_factor)"
   ]
  },
  {
   "cell_type": "code",
   "execution_count": 182,
   "metadata": {},
   "outputs": [
    {
     "name": "stderr",
     "output_type": "stream",
     "text": [
      "/opt/homebrew/lib/python3.10/site-packages/py_vollib_vectorized/implied_volatility.py:75: UserWarning: Found Below Intrinsic contracts at index [55, 56]\n",
      "  below_intrinsic, above_max_price = _check_below_and_above_intrinsic(K, F, flag, undiscounted_option_price, on_error)\n",
      "/opt/homebrew/lib/python3.10/site-packages/py_vollib_vectorized/implied_volatility.py:75: UserWarning: Found Below Intrinsic contracts at index [54, 55, 56]\n",
      "  below_intrinsic, above_max_price = _check_below_and_above_intrinsic(K, F, flag, undiscounted_option_price, on_error)\n",
      "/opt/homebrew/lib/python3.10/site-packages/py_vollib_vectorized/implied_volatility.py:75: UserWarning: Found Below Intrinsic contracts at index [53, 54, 55, 56]\n",
      "  below_intrinsic, above_max_price = _check_below_and_above_intrinsic(K, F, flag, undiscounted_option_price, on_error)\n",
      "/opt/homebrew/lib/python3.10/site-packages/py_vollib_vectorized/implied_volatility.py:75: UserWarning: Found Below Intrinsic contracts at index [56]\n",
      "  below_intrinsic, above_max_price = _check_below_and_above_intrinsic(K, F, flag, undiscounted_option_price, on_error)\n"
     ]
    }
   ],
   "source": [
    "res_ = minimize(obj, x0 = x0_, method = 'L-BFGS-B', bounds = Bounds(lower, upper), options = {'gtol': 1e-5, 'maxiter': 100, 'eps': .1})"
   ]
  },
  {
   "cell_type": "code",
   "execution_count": 186,
   "metadata": {},
   "outputs": [
    {
     "data": {
      "text/plain": [
       "  message: CONVERGENCE: REL_REDUCTION_OF_F_<=_FACTR*EPSMCH\n",
       "  success: True\n",
       "   status: 0\n",
       "      fun: 0.07535215221558135\n",
       "        x: [ 7.770e-02 -2.948e-01  3.885e-01  1.504e+01  1.503e+01]\n",
       "      nit: 3\n",
       "      jac: [ 5.248e+00  5.655e-01 -2.439e-01 -1.262e-01 -8.898e-02]\n",
       "     nfev: 78\n",
       "     njev: 13\n",
       " hess_inv: <5x5 LbfgsInvHessProduct with dtype=float64>"
      ]
     },
     "execution_count": 186,
     "metadata": {},
     "output_type": "execute_result"
    }
   ],
   "source": [
    "res_"
   ]
  },
  {
   "cell_type": "code",
   "execution_count": 193,
   "metadata": {},
   "outputs": [],
   "source": [
    "def get_samples(x_init, mdl_params, matur, n_samples = 10_000):\n",
    "    betas, lambds = mdl_params[:3], mdl_params[3:]\n",
    "    sigma = lambda r_1, r_2: betas[0] + betas[1] * r_1 + betas[2] * np.sqrt(r_2)\n",
    "    disc_steps = int(matur / dt)\n",
    "    spot = np.empty((n_samples, disc_steps + 1))\n",
    "    spot[:, 0] = x_init[0]\n",
    "    r_1, r_2 = np.full(n_samples, x_init[1]), np.full(n_samples, x_init[2])\n",
    "\n",
    "    for n in range(1, disc_steps + 1):\n",
    "        z = rng(n_samples)\n",
    "        sig_ = sigma(r_1, r_2)\n",
    "        spot[:, n] = spot[:, n - 1] * (1. + sig_ * np.sqrt(dt) * z)\n",
    "        r_1 = r_1 * (1. - lambds[0] * dt) + lambds[0] * sig_ * np.sqrt(dt) * z\n",
    "        r_2 = r_2 + lambds[1] * (sig_**2 - r_2) * dt\n",
    "    return spot"
   ]
  },
  {
   "cell_type": "code",
   "execution_count": 194,
   "metadata": {},
   "outputs": [],
   "source": [
    "spot_ = get_samples(x_init, mdl_params, 5.)"
   ]
  },
  {
   "cell_type": "code",
   "execution_count": 198,
   "metadata": {},
   "outputs": [],
   "source": [
    "t_grid = np.arange(0., 5. + dt, dt)"
   ]
  },
  {
   "cell_type": "code",
   "execution_count": 199,
   "metadata": {},
   "outputs": [
    {
     "data": {
      "text/plain": [
       "[<matplotlib.lines.Line2D at 0x15469cd00>]"
      ]
     },
     "execution_count": 199,
     "metadata": {},
     "output_type": "execute_result"
    },
    {
     "data": {
      "image/png": "[encoded data removed]",
      "text/plain": [
       "<Figure size 800x600 with 1 Axes>"
      ]
     },
     "metadata": {},
     "output_type": "display_data"
    }
   ],
   "source": [
    "plt.plot(t_grid, spot_[0, :])"
   ]
  },
  {
   "cell_type": "code",
   "execution_count": 215,
   "metadata": {},
   "outputs": [],
   "source": [
    "begin_date = int(.5 / dt)\n",
    "end_date = int(5. * (1 / dt + 1))\n",
    "period_idx = np.arange(begin_date, end_date, begin_date)"
   ]
  },
  {
   "cell_type": "code",
   "execution_count": 216,
   "metadata": {},
   "outputs": [],
   "source": [
    "recall_dates = t_grid[period_idx]"
   ]
  },
  {
   "cell_type": "code",
   "execution_count": 218,
   "metadata": {},
   "outputs": [],
   "source": [
    "samples_autocall = spot_[:, period_idx]"
   ]
  },
  {
   "cell_type": "code",
   "execution_count": 225,
   "metadata": {},
   "outputs": [],
   "source": [
    "s_0 = spx[-1]"
   ]
  },
  {
   "cell_type": "code",
   "execution_count": 304,
   "metadata": {},
   "outputs": [],
   "source": [
    "def autocall_price(x_0, x, barriers, coupons, strike):\n",
    "    condit_up = 1 * (x / x_0 >= barriers)\n",
    "    condit_down = np.cumprod(1 * (x / x_0 < barriers), axis = 1)\n",
    "    condit_down = np.insert(condit_down, 0, values = 1., axis = 1)\n",
    "    payoff = np.sum(coupons * x * condit_up * condit_down[:, :-1], axis = 1)\n",
    "    payoff += - np.maximum(x[:, -1] - strike, 0.)  *  condit_down[:, -1]\n",
    "    return payoff.mean()"
   ]
  },
  {
   "cell_type": "code",
   "execution_count": 299,
   "metadata": {},
   "outputs": [],
   "source": [
    "coupons = np.linspace(0.05, 1., 10)"
   ]
  },
  {
   "cell_type": "code",
   "execution_count": 300,
   "metadata": {},
   "outputs": [
    {
     "data": {
      "text/plain": [
       "[<matplotlib.lines.Line2D at 0x1549a7340>]"
      ]
     },
     "execution_count": 300,
     "metadata": {},
     "output_type": "execute_result"
    },
    {
     "data": {
      "image/png": "[encoded data removed]",
      "text/plain": [
       "<Figure size 800x600 with 1 Axes>"
      ]
     },
     "metadata": {},
     "output_type": "display_data"
    }
   ],
   "source": [
    "plt.plot(recall_dates, samples_autocall[0, :] / s_0, '.-')"
   ]
  },
  {
   "cell_type": "code",
   "execution_count": 305,
   "metadata": {},
   "outputs": [
    {
     "data": {
      "text/plain": [
       "-895.1606381271874"
      ]
     },
     "execution_count": 305,
     "metadata": {},
     "output_type": "execute_result"
    }
   ],
   "source": [
    "autocall_price(s_0, samples_autocall, np.full_like(recall_dates, 2.), coupons, 1.)"
   ]
  },
  {
   "cell_type": "code",
   "execution_count": null,
   "metadata": {},
   "outputs": [],
   "source": []
  }
 ],
 "metadata": {
  "kernelspec": {
   "display_name": "Python 3",
   "language": "python",
   "name": "python3"
  },
  "language_info": {
   "codemirror_mode": {
    "name": "ipython",
    "version": 3
   },
   "file_extension": ".py",
   "mimetype": "text/x-python",
   "name": "python",
   "nbconvert_exporter": "python",
   "pygments_lexer": "ipython3",
   "version": "3.10.11"
  },
  "orig_nbformat": 4,
  "vscode": {
   "interpreter": {
    "hash": "bd385fe162c5ca0c84973b7dd5c518456272446b2b64e67c2a69f949ca7a1754"
   }
  }
 },
 "nbformat": 4,
 "nbformat_minor": 2
}
